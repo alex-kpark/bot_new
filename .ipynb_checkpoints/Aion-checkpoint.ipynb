{
 "cells": [
  {
   "cell_type": "code",
   "execution_count": 1,
   "metadata": {},
   "outputs": [],
   "source": [
    "import numpy as np\n",
    "import pandas as pd\n",
    "import matplotlib as plt"
   ]
  },
  {
   "cell_type": "code",
   "execution_count": 5,
   "metadata": {},
   "outputs": [],
   "source": [
    "column = [\n",
    "    'time',\n",
    "    'actor_account_id',\n",
    "    'actor_id',\n",
    "    'serverno',\n",
    "    'total_kina',\n",
    "    'inven_kina',\n",
    "    'warehouse_kina',\n",
    "    'solo_rooting',\n",
    "    'party_rooting',\n",
    "    'sell_npc',\n",
    "    'quest_complete',\n",
    "    'post_present',\n",
    "    'sell_agencies',\n",
    "    'guild_emblem',\n",
    "    'sell_agencies_caculate',\n",
    "    'arena_reward',\n",
    "    'disposal_item',\n",
    "    'default_value',\n",
    "    'buy_npc',\n",
    "    'post',\n",
    "    'delete_option',\n",
    "    'teleport',\n",
    "    'vendor_buy',\n",
    "    'expand_inven',\n",
    "    'quest',\n",
    "    'gather_skill_up',\n",
    "    'vendor_fee',\n",
    "    'item_charge',\n",
    "    'auction_bet',\n",
    "    'housing_charge',\n",
    "    'auction_register',\n",
    "    'use_hotspot',\n",
    "    'stigma',\n",
    "    'disassemply',\n",
    "    'extract',\n",
    "    'dye',\n",
    "    'minion_growth',\n",
    "    'minion_evolution',\n",
    "    'minion_synthesis',\n",
    "    'reinforce',\n",
    "    'stigma_reinforce',\n",
    "    'ma_stone_reinforce',\n",
    "    'sin_stone_reinforce',\n",
    "    'idian',\n",
    "    'breakthrough',\n",
    "    'transform_synthesis',\n",
    "    'retune',\n",
    "    'devanion_reinforce',\n",
    "    'devanion_synthesis'\n",
    "    ]\n",
    "\n",
    "label_col = [\n",
    "    'date',\n",
    "    'actor_id',\n",
    "    'actor_account_id',\n",
    "    'label'\n",
    "]"
   ]
  },
  {
   "cell_type": "code",
   "execution_count": 2,
   "metadata": {},
   "outputs": [],
   "source": [
    "data_path = 'D:/NC/data_an/an_money.csv'\n",
    "label_path = 'D:/NC/data_an/an_label.csv'"
   ]
  },
  {
   "cell_type": "code",
   "execution_count": 6,
   "metadata": {},
   "outputs": [],
   "source": [
    "data = pd.read_csv(data_path, names=column)"
   ]
  },
  {
   "cell_type": "code",
   "execution_count": 14,
   "metadata": {},
   "outputs": [
    {
     "data": {
      "text/plain": [
       "'2019-03-01 00'"
      ]
     },
     "execution_count": 14,
     "metadata": {},
     "output_type": "execute_result"
    }
   ],
   "source": [
    "label = pd.read_csv(label_path, names=label_col)"
   ]
  },
  {
   "cell_type": "code",
   "execution_count": null,
   "metadata": {},
   "outputs": [],
   "source": []
  }
 ],
 "metadata": {
  "kernelspec": {
   "display_name": "Python 3",
   "language": "python",
   "name": "python3"
  },
  "language_info": {
   "codemirror_mode": {
    "name": "ipython",
    "version": 3
   },
   "file_extension": ".py",
   "mimetype": "text/x-python",
   "name": "python",
   "nbconvert_exporter": "python",
   "pygments_lexer": "ipython3",
   "version": "3.6.7"
  }
 },
 "nbformat": 4,
 "nbformat_minor": 2
}
