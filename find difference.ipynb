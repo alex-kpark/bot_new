{
 "cells": [
  {
   "cell_type": "code",
   "execution_count": 1,
   "metadata": {},
   "outputs": [],
   "source": [
    "import pandas as pd\n",
    "import numpy as np\n",
    "import os\n",
    "import itertools"
   ]
  },
  {
   "cell_type": "code",
   "execution_count": 2,
   "metadata": {},
   "outputs": [],
   "source": [
    "bot_path = 'D:/AION_DATA/may_bot/'\n",
    "user_path = 'D:/AION_DATA/may_user/'\n",
    "\n",
    "bot_file_list = os.listdir(bot_path)\n",
    "user_file_list = os.listdir(user_path)\n",
    "\n",
    "feature_list = [\n",
    "    'total_cash', #0\n",
    "    'cash_in_account', #1\n",
    "    'cash_in_bank', #2\n",
    "    'cash_in_mail', #3\n",
    "    'cash_in_vendor', #4\n",
    "    'evaluated_asset_value', #5\n",
    "    'item_number', #6\n",
    "    'total_agency_default_price', #7\n",
    "    'total_mail_default_price', #8\n",
    "    'asset_value_in_bank', #9\n",
    "    'asset_value_in_account_bank', #10\n",
    "    'account_ratio_cash', #11 터짐\n",
    "    'bank_ratio_cash', #12\n",
    "    'mail_ratio_cash', #13\n",
    "    'vendor_ratio_cash', #14\n",
    "    'asset_per_item', #15\n",
    "    'asset_per_cash', #16\n",
    "    'gap_btw_cash_asset' #17\n",
    "]\n",
    "\n",
    "#Parameters\n",
    "seq_length = 60\n",
    "num_feature = len(feature_list)\n"
   ]
  },
  {
   "cell_type": "code",
   "execution_count": 3,
   "metadata": {},
   "outputs": [],
   "source": [
    "def bot_generator(bot_dir_path, file_list):\n",
    "    \n",
    "    bot_list = []\n",
    "    \n",
    "    for csv in file_list: #files : 폴더 리스트\n",
    "        try:\n",
    "            managed_file = flatten_to_numpy(bot_dir_path, csv) #np들이 들어있는 List return\n",
    "            bot_list.append(managed_file)\n",
    "        except Exception as e:\n",
    "            print(\"[Error] Failed to Load\")\n",
    "            print(e)\n",
    "            pass\n",
    "    \n",
    "    merged_bots = list(itertools.chain.from_iterable(bot_list))\n",
    "    merged_bots = np.asarray(merged_bots)\n",
    "\n",
    "    return merged_bots\n",
    "\n",
    "def user_generator(user_dir_path, file_list):\n",
    "    \n",
    "    user_list = []\n",
    "\n",
    "    for csv in file_list:\n",
    "        try:\n",
    "            managed_file = flatten_to_numpy(user_dir_path, csv)\n",
    "            user_list.append(managed_file)\n",
    "        \n",
    "        except Exception as e:\n",
    "            print(\"[Error] Failed to Load\")\n",
    "            print(e)\n",
    "            pass\n",
    "        \n",
    "    merged_user = list(itertools.chain.from_iterable(user_list))\n",
    "    merged_user = np.asarray(merged_user)\n",
    "\n",
    "    return merged_user\n",
    "\n",
    "\n",
    "def flatten_to_numpy(dir_path, file):\n",
    "\n",
    "    file_path = dir_path + file\n",
    "    temp = []\n",
    "    for i in range(0,660):\n",
    "        temp.append(str(i))\n",
    "\n",
    "    data = pd.read_csv(file_path, names=temp) #, names=feature_list)\n",
    "    dataframe = pd.DataFrame(data)\n",
    "    #print(file_path)\n",
    "    #print(dataframe.shape)\n",
    "\n",
    "    bot_dataset = []\n",
    "    \n",
    "    #data 개수에 맞춰서 len(dataframe.index)\n",
    "    for i in range(len(dataframe.index)):        \n",
    "        daily_data = dataframe.loc[i].tolist()\n",
    "        np_data = np.array([np.array(daily_data).astype(np.float32).reshape(seq_length,11)])\n",
    "        bot_dataset.append(np_data[0])\n",
    "\n",
    "    #list로 리턴    \n",
    "    return bot_dataset"
   ]
  },
  {
   "cell_type": "code",
   "execution_count": 4,
   "metadata": {},
   "outputs": [],
   "source": [
    "use_feature = [\n",
    "    'total_cash', #0\n",
    "    'cash_in_account', #1\n",
    "    'cash_in_bank', #2\n",
    "    'cash_in_mail', #3\n",
    "    'cash_in_vendor', #4\n",
    "    'evaluated_asset_value', #5\n",
    "    'item_number', #6\n",
    "    'total_agency_default_price', #7\n",
    "    'total_mail_default_price', #8\n",
    "    'asset_value_in_bank', #9\n",
    "    'asset_value_in_account_bank'\n",
    "]"
   ]
  },
  {
   "cell_type": "code",
   "execution_count": 5,
   "metadata": {},
   "outputs": [],
   "source": [
    "bots = bot_generator(bot_path, bot_file_list) \n",
    "users = user_generator(user_path, user_file_list)"
   ]
  },
  {
   "cell_type": "code",
   "execution_count": 7,
   "metadata": {},
   "outputs": [
    {
     "data": {
      "text/plain": [
       "(106275, 60, 11)"
      ]
     },
     "execution_count": 7,
     "metadata": {},
     "output_type": "execute_result"
    }
   ],
   "source": [
    "bots.shape"
   ]
  },
  {
   "cell_type": "code",
   "execution_count": 8,
   "metadata": {},
   "outputs": [
    {
     "data": {
      "text/plain": [
       "(66000, 60, 11)"
      ]
     },
     "execution_count": 8,
     "metadata": {},
     "output_type": "execute_result"
    }
   ],
   "source": [
    "users.shape"
   ]
  },
  {
   "cell_type": "code",
   "execution_count": 40,
   "metadata": {},
   "outputs": [],
   "source": [
    "bot_cash_list = []\n",
    "bot_account_list = []\n",
    "bot_bank_list = []\n",
    "bot_mail_list = []\n",
    "bot_vendor_list = []\n",
    "bot_eval_list = []\n",
    "bot_item_list = []\n",
    "bot_agency_list = []\n",
    "bot_tmail_list = []\n",
    "bot_ab_list = []\n",
    "bot_acb_list = []"
   ]
  },
  {
   "cell_type": "code",
   "execution_count": 41,
   "metadata": {},
   "outputs": [],
   "source": [
    "for i in range(len(bots)):\n",
    "    bot = bots[i]\n",
    "    sample = pd.DataFrame(bot, columns=use_feature)\n",
    "    s = sample.mean()\n",
    "    z = s.to_frame(name='bot')\n",
    "    bot_cash_list.append(s[0])\n",
    "    bot_account_list.append(s[1])\n",
    "    bot_bank_list.append(s[2])\n",
    "    bot_mail_list.append(s[3])\n",
    "    bot_vendor_list.append(s[4])\n",
    "    bot_eval_list.append(s[5])\n",
    "    bot_item_list.append(s[6])\n",
    "    bot_agency_list.append(s[7])\n",
    "    bot_tmail_list.append(s[8])\n",
    "    bot_ab_list.append(s[9])\n",
    "    bot_acb_list.append(s[10])"
   ]
  },
  {
   "cell_type": "code",
   "execution_count": 51,
   "metadata": {},
   "outputs": [],
   "source": [
    "usr_cash_list = []\n",
    "usr_account_list = []\n",
    "usr_bank_list = []\n",
    "usr_mail_list = []\n",
    "usr_vendor_list = []\n",
    "usr_eval_list = []\n",
    "usr_item_list = []\n",
    "usr_agency_list = []\n",
    "usr_tmail_list = []\n",
    "usr_ab_list = []\n",
    "usr_acb_list = []"
   ]
  },
  {
   "cell_type": "code",
   "execution_count": 62,
   "metadata": {},
   "outputs": [],
   "source": [
    "for i in range(len(users)):\n",
    "    usr = users[i]\n",
    "    sample = pd.DataFrame(usr, columns=use_feature)\n",
    "    s = sample.mean()\n",
    "    z = s.to_frame(name='user')\n",
    "    usr_cash_list.append(s[0])\n",
    "    usr_account_list.append(s[1])\n",
    "    usr_bank_list.append(s[2])\n",
    "    usr_mail_list.append(s[3])\n",
    "    usr_vendor_list.append(s[4])\n",
    "    usr_eval_list.append(s[5])\n",
    "    usr_item_list.append(s[6])\n",
    "    usr_agency_list.append(s[7])\n",
    "    usr_tmail_list.append(s[8])\n",
    "    usr_ab_list.append(s[9])\n",
    "    usr_acb_list.append(s[10])"
   ]
  },
  {
   "cell_type": "code",
   "execution_count": 69,
   "metadata": {},
   "outputs": [
    {
     "data": {
      "image/png": "[encoded data removed]",
      "text/plain": [
       "<Figure size 1440x360 with 2 Axes>"
      ]
     },
     "metadata": {},
     "output_type": "display_data"
    }
   ],
   "source": [
    "import seaborn as sns\n",
    "\n",
    "fig, axs = plt.subplots(ncols=2, figsize=(20,5))\n",
    "sns.boxplot(bot_cash_list, ax=axs[0], whis=\"range\", palette=\"vlag\").set_title(\"\")\n",
    "sns.boxplot(bot_account_list, ax=axs[1],)\n",
    "\n",
    "sns.set(style='whitegrid')"
   ]
  },
  {
   "cell_type": "code",
   "execution_count": 147,
   "metadata": {},
   "outputs": [
    {
     "data": {
      "image/png": "[encoded data removed]",
      "text/plain": [
       "<Figure size 1440x360 with 2 Axes>"
      ]
     },
     "metadata": {},
     "output_type": "display_data"
    }
   ],
   "source": [
    "fig, axs = plt.subplots(nrows=2, figsize=(20,5))\n",
    "plt.subplots_adjust(hspace=0.8, wspace=1)\n",
    "\n",
    "sns.boxplot(bot_cash_list, ax=axs[0], whis=\"range\", palette=\"OrRd\").set_title(\"Bot\", fontsize=20, x=-0.00001, y=0.35)\n",
    "sns.boxplot(usr_cash_list, ax=axs[1], whis=\"range\", palette=\"PuBu\").set_title(\"Normal User\", fontsize=20, x=-0.02, y=0.35)\n",
    "#sns.boxplot(usr_cash_list, ax=axs[2], whis=\"range\", palette=\"PuBu\").set_title(\"Normal User\", fontsize=20, x=-0.02, y=0.35)\n",
    "#sns.boxplot(usr_cash_list, ax=axs[3], whis=\"range\", palette=\"PuBu\").set_title(\"Normal User\", fontsize=20, x=-0.02, y=0.35)\n",
    "sns.despine(offset=20, trim=True)\n",
    "sns.set(style='whitegrid')"
   ]
  },
  {
   "cell_type": "code",
   "execution_count": null,
   "metadata": {},
   "outputs": [],
   "source": [
    "fig, axs = plt.subplots(nrows=2, ncols=2, figsize=(20,5))\n",
    "plt.subplots_adjust(hspace=0.8, wspace=1)\n",
    "\n",
    "sns.boxplot(bot_cash_list, ax=axs[0], whis=\"range\", palette=\"OrRd\").set_title(\"Bot\", fontsize=20, x=-0.00001, y=0.35)\n",
    "sns.boxplot(usr_cash_list, ax=axs[1], whis=\"range\", palette=\"PuBu\").set_title(\"Normal User\", fontsize=20, x=-0.02, y=0.35)\n",
    "#sns.boxplot(usr_cash_list, ax=axs[2], whis=\"range\", palette=\"PuBu\").set_title(\"Normal User\", fontsize=20, x=-0.02, y=0.35)\n",
    "#sns.boxplot(usr_cash_list, ax=axs[3], whis=\"range\", palette=\"PuBu\").set_title(\"Normal User\", fontsize=20, x=-0.02, y=0.35)\n",
    "sns.despine(offset=20, trim=True)\n",
    "sns.set(style='whitegrid')"
   ]
  },
  {
   "cell_type": "code",
   "execution_count": 204,
   "metadata": {},
   "outputs": [
    {
     "data": {
      "image/png": "[encoded data removed]",
      "text/plain": [
       "<Figure size 1440x360 with 2 Axes>"
      ]
     },
     "metadata": {},
     "output_type": "display_data"
    }
   ],
   "source": [
    "fig = plt.figure(figsize=(20,5))\n",
    "fig.suptitle('?', fontsize=24)\n",
    "ax1 = fig.add_subplot(211)\n",
    "ax2 = fig.add_subplot(212)\n",
    "\n",
    "sns.boxplot(bot_cash_list, ax=ax1, whis=\"range\", palette=\"OrRd\").set_title(\"Bot\", fontsize=20, x=0.02, y=0.39)\n",
    "sns.boxplot(usr_cash_list, ax=ax2, whis=\"range\", palette=\"PuBu\").set_title(\"Normal User\", fontsize=20, x=-0.02, y=0.39)\n",
    "\n",
    "sns.despine(offset=20, trim=True)\n",
    "plt.subplots_adjust(hspace=0.5, wspace=1)\n",
    "sns.set(style='whitegrid')"
   ]
  },
  {
   "cell_type": "code",
   "execution_count": null,
   "metadata": {},
   "outputs": [],
   "source": []
  },
  {
   "cell_type": "code",
   "execution_count": 17,
   "metadata": {},
   "outputs": [],
   "source": [
    "user = users[4]\n",
    "sample = pd.DataFrame(user, columns=use_feature)\n",
    "s = sample.mean()\n",
    "x = s.to_frame(name='user')"
   ]
  },
  {
   "cell_type": "code",
   "execution_count": 22,
   "metadata": {},
   "outputs": [
    {
     "data": {
      "text/plain": [
       "array([[<matplotlib.axes._subplots.AxesSubplot object at 0x000002AF0626A668>,\n",
       "        <matplotlib.axes._subplots.AxesSubplot object at 0x000002AF062A1550>]],\n",
       "      dtype=object)"
      ]
     },
     "execution_count": 22,
     "metadata": {},
     "output_type": "execute_result"
    },
    {
     "data": {
      "image/png": "[encoded data removed]",
      "text/plain": [
       "<Figure size 432x288 with 2 Axes>"
      ]
     },
     "metadata": {
      "needs_background": "light"
     },
     "output_type": "display_data"
    }
   ],
   "source": [
    "result = pd.concat((z,x), axis=1)\n",
    "hist = result.hist()\n",
    "hist"
   ]
  },
  {
   "cell_type": "code",
   "execution_count": 23,
   "metadata": {},
   "outputs": [
    {
     "data": {
      "text/html": [
       "<div>\n",
       "<style scoped>\n",
       "    .dataframe tbody tr th:only-of-type {\n",
       "        vertical-align: middle;\n",
       "    }\n",
       "\n",
       "    .dataframe tbody tr th {\n",
       "        vertical-align: top;\n",
       "    }\n",
       "\n",
       "    .dataframe thead th {\n",
       "        text-align: right;\n",
       "    }\n",
       "</style>\n",
       "<table border=\"1\" class=\"dataframe\">\n",
       "  <thead>\n",
       "    <tr style=\"text-align: right;\">\n",
       "      <th></th>\n",
       "      <th>bot</th>\n",
       "      <th>user</th>\n",
       "    </tr>\n",
       "  </thead>\n",
       "  <tbody>\n",
       "    <tr>\n",
       "      <th>total_cash</th>\n",
       "      <td>0.227014</td>\n",
       "      <td>0.426584</td>\n",
       "    </tr>\n",
       "    <tr>\n",
       "      <th>cash_in_account</th>\n",
       "      <td>0.223319</td>\n",
       "      <td>0.464367</td>\n",
       "    </tr>\n",
       "    <tr>\n",
       "      <th>cash_in_bank</th>\n",
       "      <td>0.030640</td>\n",
       "      <td>0.100000</td>\n",
       "    </tr>\n",
       "    <tr>\n",
       "      <th>cash_in_mail</th>\n",
       "      <td>0.000000</td>\n",
       "      <td>0.000000</td>\n",
       "    </tr>\n",
       "    <tr>\n",
       "      <th>cash_in_vendor</th>\n",
       "      <td>0.041988</td>\n",
       "      <td>0.635997</td>\n",
       "    </tr>\n",
       "    <tr>\n",
       "      <th>evaluated_asset_value</th>\n",
       "      <td>0.260755</td>\n",
       "      <td>0.444643</td>\n",
       "    </tr>\n",
       "    <tr>\n",
       "      <th>item_number</th>\n",
       "      <td>0.354268</td>\n",
       "      <td>0.488889</td>\n",
       "    </tr>\n",
       "    <tr>\n",
       "      <th>total_agency_default_price</th>\n",
       "      <td>0.000000</td>\n",
       "      <td>0.000000</td>\n",
       "    </tr>\n",
       "    <tr>\n",
       "      <th>total_mail_default_price</th>\n",
       "      <td>0.033333</td>\n",
       "      <td>0.000000</td>\n",
       "    </tr>\n",
       "    <tr>\n",
       "      <th>asset_value_in_bank</th>\n",
       "      <td>0.133787</td>\n",
       "      <td>0.433333</td>\n",
       "    </tr>\n",
       "    <tr>\n",
       "      <th>asset_value_in_account_bank</th>\n",
       "      <td>0.068571</td>\n",
       "      <td>0.100000</td>\n",
       "    </tr>\n",
       "  </tbody>\n",
       "</table>\n",
       "</div>"
      ],
      "text/plain": [
       "                                  bot      user\n",
       "total_cash                   0.227014  0.426584\n",
       "cash_in_account              0.223319  0.464367\n",
       "cash_in_bank                 0.030640  0.100000\n",
       "cash_in_mail                 0.000000  0.000000\n",
       "cash_in_vendor               0.041988  0.635997\n",
       "evaluated_asset_value        0.260755  0.444643\n",
       "item_number                  0.354268  0.488889\n",
       "total_agency_default_price   0.000000  0.000000\n",
       "total_mail_default_price     0.033333  0.000000\n",
       "asset_value_in_bank          0.133787  0.433333\n",
       "asset_value_in_account_bank  0.068571  0.100000"
      ]
     },
     "execution_count": 23,
     "metadata": {},
     "output_type": "execute_result"
    }
   ],
   "source": [
    "result"
   ]
  },
  {
   "cell_type": "code",
   "execution_count": 13,
   "metadata": {},
   "outputs": [
    {
     "data": {
      "text/plain": [
       "132000"
      ]
     },
     "execution_count": 13,
     "metadata": {},
     "output_type": "execute_result"
    }
   ],
   "source": [
    "len(users)"
   ]
  },
  {
   "cell_type": "code",
   "execution_count": 64,
   "metadata": {},
   "outputs": [
    {
     "name": "stdout",
     "output_type": "stream",
     "text": [
      "                                  bot      user\n",
      "total_cash                   0.414605  0.354587\n",
      "cash_in_account              0.412672  0.415450\n",
      "cash_in_bank                 0.156414  0.000000\n",
      "cash_in_mail                 0.000000  0.000000\n",
      "cash_in_vendor               0.134475  0.219784\n",
      "evaluated_asset_value        0.399747  0.358989\n",
      "item_number                  0.294707  0.224649\n",
      "total_agency_default_price   0.000000  0.000000\n",
      "total_mail_default_price     0.302532  0.000000\n",
      "asset_value_in_bank          0.365106  0.415450\n",
      "asset_value_in_account_bank  0.152525  0.000000\n",
      "                                  bot      user\n",
      "total_cash                   0.409544  0.315078\n",
      "cash_in_account              0.408016  0.278122\n",
      "cash_in_bank                 0.156414  0.000000\n",
      "cash_in_mail                 0.000000  0.000000\n",
      "cash_in_vendor               0.131195  0.385202\n",
      "evaluated_asset_value        0.395303  0.302691\n",
      "item_number                  0.289117  0.258688\n",
      "total_agency_default_price   0.000000  0.000000\n",
      "total_mail_default_price     0.278718  0.000000\n",
      "asset_value_in_bank          0.350522  0.000000\n",
      "asset_value_in_account_bank  0.152681  0.000000\n",
      "                                  bot      user\n",
      "total_cash                   0.403907  0.302986\n",
      "cash_in_account              0.402174  0.302986\n",
      "cash_in_bank                 0.156414  0.000000\n",
      "cash_in_mail                 0.000000  0.000000\n",
      "cash_in_vendor               0.131195  0.000000\n",
      "evaluated_asset_value        0.389638  0.302985\n",
      "item_number                  0.283749  0.291057\n",
      "total_agency_default_price   0.000000  0.278718\n",
      "total_mail_default_price     0.251549  0.000000\n",
      "asset_value_in_bank          0.334461  0.000000\n",
      "asset_value_in_account_bank  0.152832  0.000000\n",
      "                                  bot      user\n",
      "total_cash                   0.397488  0.306868\n",
      "cash_in_account              0.395535  0.355399\n",
      "cash_in_bank                 0.156414  0.000000\n",
      "cash_in_mail                 0.000000  0.000000\n",
      "cash_in_vendor               0.131195  0.322593\n",
      "evaluated_asset_value        0.383165  0.297493\n",
      "item_number                  0.275818  0.297542\n",
      "total_agency_default_price   0.000000  0.000000\n",
      "total_mail_default_price     0.219784  0.000000\n",
      "asset_value_in_bank          0.316698  0.000000\n",
      "asset_value_in_account_bank  0.152977  0.000000\n",
      "                                  bot      user\n",
      "total_cash                   0.389844  0.289107\n",
      "cash_in_account              0.388218  0.281414\n",
      "cash_in_bank                 0.156414  0.302532\n",
      "cash_in_mail                 0.000000  0.000000\n",
      "cash_in_vendor               0.129418  0.280886\n",
      "evaluated_asset_value        0.375443  0.303843\n",
      "item_number                  0.266543  0.278661\n",
      "total_agency_default_price   0.000000  0.000000\n",
      "total_mail_default_price     0.181020  0.000000\n",
      "asset_value_in_bank          0.296928  0.247777\n",
      "asset_value_in_account_bank  0.153116  0.302532\n",
      "                                  bot      user\n",
      "total_cash                   0.381344  0.237944\n",
      "cash_in_account              0.379482  0.415450\n",
      "cash_in_bank                 0.156414  0.000000\n",
      "cash_in_mail                 0.000000  0.000000\n",
      "cash_in_vendor               0.129418  0.194859\n",
      "evaluated_asset_value        0.366273  0.310480\n",
      "item_number                  0.254141  0.306324\n",
      "total_agency_default_price   0.000000  0.460730\n",
      "total_mail_default_price     0.129099  0.000000\n",
      "asset_value_in_bank          0.274717  0.415450\n",
      "asset_value_in_account_bank  0.153250  0.000000\n",
      "                                  bot      user\n",
      "total_cash                   0.371979  0.263446\n",
      "cash_in_account              0.369959  0.444109\n",
      "cash_in_bank                 0.156414  0.000000\n",
      "cash_in_mail                 0.000000  0.000000\n",
      "cash_in_vendor               0.129526  0.188971\n",
      "evaluated_asset_value        0.356305  0.284807\n",
      "item_number                  0.262468  0.252200\n",
      "total_agency_default_price   0.000000  0.251429\n",
      "total_mail_default_price     0.000000  0.000000\n",
      "asset_value_in_bank          0.249416  0.499717\n",
      "asset_value_in_account_bank  0.153378  0.000000\n",
      "                                  bot      user\n",
      "total_cash                   0.361688  0.327357\n",
      "cash_in_account              0.359394  0.304811\n",
      "cash_in_bank                 0.156414  0.317347\n",
      "cash_in_mail                 0.000000  0.000000\n",
      "cash_in_vendor               0.129526  0.140250\n",
      "evaluated_asset_value        0.345623  0.287900\n",
      "item_number                  0.249464  0.261531\n",
      "total_agency_default_price   0.000000  0.000000\n",
      "total_mail_default_price     0.000000  0.000000\n",
      "asset_value_in_bank          0.219959  0.268390\n",
      "asset_value_in_account_bank  0.153501  0.317285\n",
      "                                  bot  user\n",
      "total_cash                   0.350477   0.0\n",
      "cash_in_account              0.347883   0.0\n",
      "cash_in_bank                 0.156414   0.0\n",
      "cash_in_mail                 0.000000   0.0\n",
      "cash_in_vendor               0.129526   0.0\n",
      "evaluated_asset_value        0.334030   0.0\n",
      "item_number                  0.234924   0.0\n",
      "total_agency_default_price   0.000000   0.0\n",
      "total_mail_default_price     0.000000   0.0\n",
      "asset_value_in_bank          0.184365   0.0\n",
      "asset_value_in_account_bank  0.153618   0.0\n",
      "                                  bot      user\n",
      "total_cash                   0.338249  0.297102\n",
      "cash_in_account              0.335327  0.307778\n",
      "cash_in_bank                 0.156414  0.287094\n",
      "cash_in_mail                 0.000000  0.000000\n",
      "cash_in_vendor               0.129497  0.000000\n",
      "evaluated_asset_value        0.321425  0.289026\n",
      "item_number                  0.218541  0.279460\n",
      "total_agency_default_price   0.000000  0.497167\n",
      "total_mail_default_price     0.000000  0.497167\n",
      "asset_value_in_bank          0.137964  0.290913\n",
      "asset_value_in_account_bank  0.153729  0.286981\n"
     ]
    }
   ],
   "source": [
    "for i in range(10):\n",
    "    bot = bots[i]\n",
    "    sample = pd.DataFrame(bot, columns=use_feature)\n",
    "    s = sample.std()\n",
    "    z = s.to_frame(name='bot')\n",
    "\n",
    "    user = users[i]\n",
    "    sample = pd.DataFrame(user, columns=use_feature)\n",
    "    s = sample.std()\n",
    "    x = s.to_frame(name='user')\n",
    "    \n",
    "    result = pd.concat((z,x), axis=1)\n",
    "    \n",
    "    print(result)"
   ]
  },
  {
   "cell_type": "code",
   "execution_count": 52,
   "metadata": {},
   "outputs": [
    {
     "data": {
      "text/html": [
       "<div>\n",
       "<style scoped>\n",
       "    .dataframe tbody tr th:only-of-type {\n",
       "        vertical-align: middle;\n",
       "    }\n",
       "\n",
       "    .dataframe tbody tr th {\n",
       "        vertical-align: top;\n",
       "    }\n",
       "\n",
       "    .dataframe thead th {\n",
       "        text-align: right;\n",
       "    }\n",
       "</style>\n",
       "<table border=\"1\" class=\"dataframe\">\n",
       "  <thead>\n",
       "    <tr style=\"text-align: right;\">\n",
       "      <th></th>\n",
       "      <th>bot</th>\n",
       "    </tr>\n",
       "  </thead>\n",
       "  <tbody>\n",
       "    <tr>\n",
       "      <th>total_cash</th>\n",
       "      <td>0.227014</td>\n",
       "    </tr>\n",
       "    <tr>\n",
       "      <th>cash_in_account</th>\n",
       "      <td>0.223319</td>\n",
       "    </tr>\n",
       "    <tr>\n",
       "      <th>cash_in_bank</th>\n",
       "      <td>0.030640</td>\n",
       "    </tr>\n",
       "    <tr>\n",
       "      <th>cash_in_mail</th>\n",
       "      <td>0.000000</td>\n",
       "    </tr>\n",
       "    <tr>\n",
       "      <th>cash_in_vendor</th>\n",
       "      <td>0.041988</td>\n",
       "    </tr>\n",
       "    <tr>\n",
       "      <th>evaluated_asset_value</th>\n",
       "      <td>0.260755</td>\n",
       "    </tr>\n",
       "    <tr>\n",
       "      <th>item_number</th>\n",
       "      <td>0.354268</td>\n",
       "    </tr>\n",
       "    <tr>\n",
       "      <th>total_agency_default_price</th>\n",
       "      <td>0.000000</td>\n",
       "    </tr>\n",
       "    <tr>\n",
       "      <th>total_mail_default_price</th>\n",
       "      <td>0.033333</td>\n",
       "    </tr>\n",
       "    <tr>\n",
       "      <th>asset_value_in_bank</th>\n",
       "      <td>0.133787</td>\n",
       "    </tr>\n",
       "    <tr>\n",
       "      <th>asset_value_in_account_bank</th>\n",
       "      <td>0.068571</td>\n",
       "    </tr>\n",
       "  </tbody>\n",
       "</table>\n",
       "</div>"
      ],
      "text/plain": [
       "                                  bot\n",
       "total_cash                   0.227014\n",
       "cash_in_account              0.223319\n",
       "cash_in_bank                 0.030640\n",
       "cash_in_mail                 0.000000\n",
       "cash_in_vendor               0.041988\n",
       "evaluated_asset_value        0.260755\n",
       "item_number                  0.354268\n",
       "total_agency_default_price   0.000000\n",
       "total_mail_default_price     0.033333\n",
       "asset_value_in_bank          0.133787\n",
       "asset_value_in_account_bank  0.068571"
      ]
     },
     "execution_count": 52,
     "metadata": {},
     "output_type": "execute_result"
    }
   ],
   "source": [
    "bot = bots[4]\n",
    "sample = pd.DataFrame(bot, columns=use_feature)\n",
    "s = sample.mean()\n",
    "z = s.to_frame(name='bot')\n",
    "\n",
    "user = users[4]\n",
    "sample = pd.DataFrame(user, columns=use_feature)\n",
    "s = sample.mean()\n",
    "x = s.to_frame(name='user')"
   ]
  },
  {
   "cell_type": "code",
   "execution_count": null,
   "metadata": {},
   "outputs": [],
   "source": []
  },
  {
   "cell_type": "code",
   "execution_count": 60,
   "metadata": {},
   "outputs": [
    {
     "data": {
      "text/html": [
       "<div>\n",
       "<style scoped>\n",
       "    .dataframe tbody tr th:only-of-type {\n",
       "        vertical-align: middle;\n",
       "    }\n",
       "\n",
       "    .dataframe tbody tr th {\n",
       "        vertical-align: top;\n",
       "    }\n",
       "\n",
       "    .dataframe thead th {\n",
       "        text-align: right;\n",
       "    }\n",
       "</style>\n",
       "<table border=\"1\" class=\"dataframe\">\n",
       "  <thead>\n",
       "    <tr style=\"text-align: right;\">\n",
       "      <th></th>\n",
       "      <th>bot</th>\n",
       "      <th>user</th>\n",
       "    </tr>\n",
       "  </thead>\n",
       "  <tbody>\n",
       "    <tr>\n",
       "      <th>total_cash</th>\n",
       "      <td>0.227014</td>\n",
       "      <td>0.426584</td>\n",
       "    </tr>\n",
       "    <tr>\n",
       "      <th>cash_in_account</th>\n",
       "      <td>0.223319</td>\n",
       "      <td>0.464367</td>\n",
       "    </tr>\n",
       "    <tr>\n",
       "      <th>cash_in_bank</th>\n",
       "      <td>0.030640</td>\n",
       "      <td>0.100000</td>\n",
       "    </tr>\n",
       "    <tr>\n",
       "      <th>cash_in_mail</th>\n",
       "      <td>0.000000</td>\n",
       "      <td>0.000000</td>\n",
       "    </tr>\n",
       "    <tr>\n",
       "      <th>cash_in_vendor</th>\n",
       "      <td>0.041988</td>\n",
       "      <td>0.635997</td>\n",
       "    </tr>\n",
       "    <tr>\n",
       "      <th>evaluated_asset_value</th>\n",
       "      <td>0.260755</td>\n",
       "      <td>0.444643</td>\n",
       "    </tr>\n",
       "    <tr>\n",
       "      <th>item_number</th>\n",
       "      <td>0.354268</td>\n",
       "      <td>0.488889</td>\n",
       "    </tr>\n",
       "    <tr>\n",
       "      <th>total_agency_default_price</th>\n",
       "      <td>0.000000</td>\n",
       "      <td>0.000000</td>\n",
       "    </tr>\n",
       "    <tr>\n",
       "      <th>total_mail_default_price</th>\n",
       "      <td>0.033333</td>\n",
       "      <td>0.000000</td>\n",
       "    </tr>\n",
       "    <tr>\n",
       "      <th>asset_value_in_bank</th>\n",
       "      <td>0.133787</td>\n",
       "      <td>0.433333</td>\n",
       "    </tr>\n",
       "    <tr>\n",
       "      <th>asset_value_in_account_bank</th>\n",
       "      <td>0.068571</td>\n",
       "      <td>0.100000</td>\n",
       "    </tr>\n",
       "  </tbody>\n",
       "</table>\n",
       "</div>"
      ],
      "text/plain": [
       "                                  bot      user\n",
       "total_cash                   0.227014  0.426584\n",
       "cash_in_account              0.223319  0.464367\n",
       "cash_in_bank                 0.030640  0.100000\n",
       "cash_in_mail                 0.000000  0.000000\n",
       "cash_in_vendor               0.041988  0.635997\n",
       "evaluated_asset_value        0.260755  0.444643\n",
       "item_number                  0.354268  0.488889\n",
       "total_agency_default_price   0.000000  0.000000\n",
       "total_mail_default_price     0.033333  0.000000\n",
       "asset_value_in_bank          0.133787  0.433333\n",
       "asset_value_in_account_bank  0.068571  0.100000"
      ]
     },
     "execution_count": 60,
     "metadata": {},
     "output_type": "execute_result"
    }
   ],
   "source": [
    "pd.concat((z,x), axis=1)"
   ]
  },
  {
   "cell_type": "code",
   "execution_count": null,
   "metadata": {},
   "outputs": [],
   "source": []
  }
 ],
 "metadata": {
  "kernelspec": {
   "display_name": "Python 3",
   "language": "python",
   "name": "python3"
  },
  "language_info": {
   "codemirror_mode": {
    "name": "ipython",
    "version": 3
   },
   "file_extension": ".py",
   "mimetype": "text/x-python",
   "name": "python",
   "nbconvert_exporter": "python",
   "pygments_lexer": "ipython3",
   "version": "3.6.7"
  }
 },
 "nbformat": 4,
 "nbformat_minor": 2
}
